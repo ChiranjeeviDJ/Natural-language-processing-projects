{
 "cells": [
  {
   "cell_type": "markdown",
   "id": "b1573749-0885-403a-b90f-f47c8339c2ec",
   "metadata": {},
   "source": [
    "# Text to Summarize"
   ]
  },
  {
   "cell_type": "code",
   "execution_count": 1,
   "id": "141c0752-1565-4aeb-af4f-66629357bfcf",
   "metadata": {},
   "outputs": [],
   "source": [
    "# importing libraries \n",
    "import nltk \n",
    "from nltk.corpus import stopwords \n",
    "from nltk.tokenize import word_tokenize, sent_tokenize "
   ]
  },
  {
   "cell_type": "code",
   "execution_count": 2,
   "id": "9b714ed7-9872-40f6-a450-5140d2b499ee",
   "metadata": {},
   "outputs": [],
   "source": [
    "# Input text - to summarize \n",
    "text = \"\"\"There are many techniques available to generate extractive summarization to keep it simple, I will be using an unsupervised learning approach to find the sentences similarity and rank them.\n",
    "Summarization can be defined as a task of producing a concise and fluent summary while preserving key information and overall meaning.\n",
    "One benefit of this will be, you don’t need to train and build a model prior start using it for your project.\n",
    "It’s good to understand Cosine similarity to make the best use of the code you are going to see.\n",
    "Cosine similarity is a measure of similarity between two non-zero vectors of an inner product space that measures the cosine of the angle between them.\n",
    "Its measures cosine of the angle between vectors. The angle will be 0 if sentences are similar. \"\"\""
   ]
  },
  {
   "cell_type": "code",
   "execution_count": 3,
   "id": "34141c29-19ff-4ed9-863b-53030052ea06",
   "metadata": {},
   "outputs": [],
   "source": [
    "# Tokenizing the text \n",
    "stopWords = set(stopwords.words(\"english\")) \n",
    "words = word_tokenize(text) \n",
    "\n",
    "# Creating a frequency table to keep the \n",
    "# score of each word \n",
    "\n",
    "freqTable = dict() \n",
    "for word in words: \n",
    "\tword = word.lower() \n",
    "\tif word in stopWords: \n",
    "\t\tcontinue\n",
    "\tif word in freqTable: \n",
    "\t\tfreqTable[word] += 1\n",
    "\telse: \n",
    "\t\tfreqTable[word] = 1\n"
   ]
  },
  {
   "cell_type": "code",
   "execution_count": 4,
   "id": "b4ad59ad-b126-4321-ad00-046313abb6f5",
   "metadata": {},
   "outputs": [],
   "source": [
    "# Creating a dictionary to keep the score \n",
    "# of each sentence \n",
    "sentences = sent_tokenize(text) \n",
    "sentenceValue = dict() \n",
    "\n",
    "for sentence in sentences: \n",
    "\tfor word, freq in freqTable.items(): \n",
    "\t\tif word in sentence.lower(): \n",
    "\t\t\tif sentence in sentenceValue: \n",
    "\t\t\t\tsentenceValue[sentence] += freq \n",
    "\t\t\telse: \n",
    "\t\t\t\tsentenceValue[sentence] = freq \n",
    "\n",
    "\n",
    "\n",
    "sumValues = 0\n",
    "for sentence in sentenceValue: \n",
    "\tsumValues += sentenceValue[sentence] \n"
   ]
  },
  {
   "cell_type": "code",
   "execution_count": 5,
   "id": "768ce293-622e-4d2b-8726-386f86905e52",
   "metadata": {},
   "outputs": [
    {
     "name": "stdout",
     "output_type": "stream",
     "text": [
      " There are many techniques available to generate extractive summarization to keep it simple, I will be using an unsupervised learning approach to find the sentences similarity and rank them. Cosine similarity is a measure of similarity between two non-zero vectors of an inner product space that measures the cosine of the angle between them.\n"
     ]
    }
   ],
   "source": [
    "# Average value of a sentence from the original text \n",
    "\n",
    "average = int(sumValues / len(sentenceValue)) \n",
    "\n",
    "# Storing sentences into our summary. \n",
    "summary = '' \n",
    "for sentence in sentences: \n",
    "\tif (sentence in sentenceValue) and (sentenceValue[sentence] > (1.2 * average)): \n",
    "\t\tsummary += \" \" + sentence \n",
    "print(summary) "
   ]
  },
  {
   "cell_type": "code",
   "execution_count": null,
   "id": "73abb9ab-a2ef-444d-bac1-c7a25803456a",
   "metadata": {},
   "outputs": [],
   "source": []
  }
 ],
 "metadata": {
  "kernelspec": {
   "display_name": "Python 3 (ipykernel)",
   "language": "python",
   "name": "python3"
  },
  "language_info": {
   "codemirror_mode": {
    "name": "ipython",
    "version": 3
   },
   "file_extension": ".py",
   "mimetype": "text/x-python",
   "name": "python",
   "nbconvert_exporter": "python",
   "pygments_lexer": "ipython3",
   "version": "3.12.4"
  }
 },
 "nbformat": 4,
 "nbformat_minor": 5
}
